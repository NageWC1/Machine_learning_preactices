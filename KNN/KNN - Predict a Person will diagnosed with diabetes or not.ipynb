{
 "cells": [
  {
   "cell_type": "markdown",
   "id": "6d1d49c2",
   "metadata": {},
   "source": [
    "# KNN - Predict whether a person willhave diabetes or not  "
   ]
  },
  {
   "cell_type": "code",
   "execution_count": 7,
   "id": "3c918a6b",
   "metadata": {},
   "outputs": [],
   "source": [
    "# import all the libraries to the project \n",
    "import pandas as pd\n",
    "import numpy as np\n",
    "import matplotlib.pyplot as plt\n",
    "# this is for split the dataset into train and test \n",
    "from sklearn.model_selection import train_test_split \n",
    "# preprocessing package going to handlde the data bias and clean the data \n",
    "from sklearn.preprocessing import StandardScaler\n",
    "# \n",
    "from sklearn.neighbors import KNeighborsClassifier\n",
    "# import the confusion matrix to evaluate the model\n",
    "# normally the sklearn.matrics package hold all the model eveluation methods \n",
    "#  these are basically to use for test the model - how good it is\n",
    "from sklearn.metrics import confusion_matrix\n",
    "from sklearn.metrics import f1_score\n",
    "from sklearn.metrics import accuracy_score\n",
    "\n",
    "%matplotlib inline"
   ]
  },
  {
   "cell_type": "code",
   "execution_count": 9,
   "id": "94015ab1",
   "metadata": {},
   "outputs": [
    {
     "name": "stdout",
     "output_type": "stream",
     "text": [
      "768\n"
     ]
    },
    {
     "data": {
      "text/html": [
       "<div>\n",
       "<style scoped>\n",
       "    .dataframe tbody tr th:only-of-type {\n",
       "        vertical-align: middle;\n",
       "    }\n",
       "\n",
       "    .dataframe tbody tr th {\n",
       "        vertical-align: top;\n",
       "    }\n",
       "\n",
       "    .dataframe thead th {\n",
       "        text-align: right;\n",
       "    }\n",
       "</style>\n",
       "<table border=\"1\" class=\"dataframe\">\n",
       "  <thead>\n",
       "    <tr style=\"text-align: right;\">\n",
       "      <th></th>\n",
       "      <th>Pregnancies</th>\n",
       "      <th>Glucose</th>\n",
       "      <th>BloodPressure</th>\n",
       "      <th>SkinThickness</th>\n",
       "      <th>Insulin</th>\n",
       "      <th>BMI</th>\n",
       "      <th>DiabetesPedigreeFunction</th>\n",
       "      <th>Age</th>\n",
       "      <th>Outcome</th>\n",
       "    </tr>\n",
       "  </thead>\n",
       "  <tbody>\n",
       "    <tr>\n",
       "      <th>0</th>\n",
       "      <td>6</td>\n",
       "      <td>148</td>\n",
       "      <td>72</td>\n",
       "      <td>35</td>\n",
       "      <td>0</td>\n",
       "      <td>33.6</td>\n",
       "      <td>0.627</td>\n",
       "      <td>50</td>\n",
       "      <td>1</td>\n",
       "    </tr>\n",
       "    <tr>\n",
       "      <th>1</th>\n",
       "      <td>1</td>\n",
       "      <td>85</td>\n",
       "      <td>66</td>\n",
       "      <td>29</td>\n",
       "      <td>0</td>\n",
       "      <td>26.6</td>\n",
       "      <td>0.351</td>\n",
       "      <td>31</td>\n",
       "      <td>0</td>\n",
       "    </tr>\n",
       "    <tr>\n",
       "      <th>2</th>\n",
       "      <td>8</td>\n",
       "      <td>183</td>\n",
       "      <td>64</td>\n",
       "      <td>0</td>\n",
       "      <td>0</td>\n",
       "      <td>23.3</td>\n",
       "      <td>0.672</td>\n",
       "      <td>32</td>\n",
       "      <td>1</td>\n",
       "    </tr>\n",
       "    <tr>\n",
       "      <th>3</th>\n",
       "      <td>1</td>\n",
       "      <td>89</td>\n",
       "      <td>66</td>\n",
       "      <td>23</td>\n",
       "      <td>94</td>\n",
       "      <td>28.1</td>\n",
       "      <td>0.167</td>\n",
       "      <td>21</td>\n",
       "      <td>0</td>\n",
       "    </tr>\n",
       "    <tr>\n",
       "      <th>4</th>\n",
       "      <td>0</td>\n",
       "      <td>137</td>\n",
       "      <td>40</td>\n",
       "      <td>35</td>\n",
       "      <td>168</td>\n",
       "      <td>43.1</td>\n",
       "      <td>2.288</td>\n",
       "      <td>33</td>\n",
       "      <td>1</td>\n",
       "    </tr>\n",
       "  </tbody>\n",
       "</table>\n",
       "</div>"
      ],
      "text/plain": [
       "   Pregnancies  Glucose  BloodPressure  SkinThickness  Insulin   BMI  \\\n",
       "0            6      148             72             35        0  33.6   \n",
       "1            1       85             66             29        0  26.6   \n",
       "2            8      183             64              0        0  23.3   \n",
       "3            1       89             66             23       94  28.1   \n",
       "4            0      137             40             35      168  43.1   \n",
       "\n",
       "   DiabetesPedigreeFunction  Age  Outcome  \n",
       "0                     0.627   50        1  \n",
       "1                     0.351   31        0  \n",
       "2                     0.672   32        1  \n",
       "3                     0.167   21        0  \n",
       "4                     2.288   33        1  "
      ]
     },
     "execution_count": 9,
     "metadata": {},
     "output_type": "execute_result"
    }
   ],
   "source": [
    "# import the dataset and check the dataframe by printing our\n",
    "dataset = pd.read_csv('diabetes.csv')\n",
    "print(len(dataset))\n",
    "dataset.head()"
   ]
  },
  {
   "cell_type": "code",
   "execution_count": 10,
   "id": "a471512e",
   "metadata": {},
   "outputs": [],
   "source": [
    "#  impementing code for not to have 0 is certain columns \n",
    "#  Replace Zeroes \n",
    "zero_not_accepted = ['Glucose','BloodPressure','SkinThickness','BMI',\"Insulin\"]"
   ]
  },
  {
   "cell_type": "code",
   "execution_count": 13,
   "id": "657da17d",
   "metadata": {},
   "outputs": [],
   "source": [
    "# implement the code for clean the data \n",
    "for column in zero_not_accepted:\n",
    "#     replace the zerose with NaN value\n",
    "    dataset[column] = dataset[column].replace(0,np.NaN)\n",
    "#     caluculate the mean value for the column\n",
    "    mean = int(dataset[column].mean(skipna=True))\n",
    "#     replace the mean value for the assigned NaN value before \n",
    "    dataset[column] = dataset[column].replace(np.NaN, mean)"
   ]
  },
  {
   "cell_type": "code",
   "execution_count": 15,
   "id": "a8017b9b",
   "metadata": {},
   "outputs": [],
   "source": [
    "# NOTE: Thoroughly practice the data cleaning practice with various amount of dataset\n",
    "#       Clearly understand what the data cleaning and why we cleaning in,\n",
    "#       What are the methods using to clean the data \n",
    "#       what type of problem will be in the dataset \n",
    "#       Best way tp clean out the data "
   ]
  },
  {
   "cell_type": "code",
   "execution_count": 16,
   "id": "f89c9568",
   "metadata": {},
   "outputs": [],
   "source": [
    "# split the dataset into train and test \n",
    "# 1st have the x and y sepearatly\n",
    "# as in the code the 8th column or last colum will not include \n",
    "X = dataset.iloc[:, 0:8] # Take the All(looking at the all the row) the data from 0 to 8\n",
    "y = dataset.iloc[:,8] # Take the dependent value y - class that we need to predict (only we taking the last column)"
   ]
  },
  {
   "cell_type": "code",
   "execution_count": 17,
   "id": "030e2735",
   "metadata": {},
   "outputs": [],
   "source": [
    "# here we taking the test size 20% and train for 80%\n",
    "X_train, X_test, y_train, y_test = train_test_split(X,y, random_state=0, test_size =0.2)\n",
    "\n",
    "# NOTE: for the training - we wil take the X_train and y_train \n",
    "#       and after building the model the X-test and y_test wil be used to test the model "
   ]
  },
  {
   "cell_type": "code",
   "execution_count": 18,
   "id": "8de2fa16",
   "metadata": {},
   "outputs": [],
   "source": [
    "#  Here we going to do the feature scaling\n",
    "sc_X = StandardScaler()\n",
    "X_train = sc_X.fit_transform(X_train)\n",
    "X_test = sc_X.transform(X_test)\n",
    "\n",
    "\n",
    "# why we using the scalling \n",
    "# geneal idea is to make the normality on the dataset to -1 to 1 \n",
    "# because each column will have values with varies of range \n",
    "#  5 to 553\n",
    "#  another column that can value like 1 to 6\n",
    "# so we here doing this scalling is to take all the columns into \n",
    "# scale -1 to 1"
   ]
  },
  {
   "cell_type": "code",
   "execution_count": 24,
   "id": "9ed9ae54",
   "metadata": {},
   "outputs": [],
   "source": [
    "# now we going to do the building the model \n",
    "# define the model: Init K-NN\n",
    "classifier = KNeighborsClassifier(n_neighbors=11,p=2,metric='euclidean')\n",
    "\n",
    "# Number of n_neighbors should be odd - because if the neighbors in even then their is a posibility that predicting \n",
    "# datapoint will have event numbers of neighbors then the model will be confuse where the data point belongs to \n",
    "\n",
    "\n",
    "# p is represent number of class that we predict \n",
    "# here that is preson dignosed with diabetes or not"
   ]
  },
  {
   "cell_type": "code",
   "execution_count": 26,
   "id": "1fc3c815",
   "metadata": {},
   "outputs": [
    {
     "data": {
      "text/plain": [
       "KNeighborsClassifier(metric='euclidean', n_neighbors=11)"
      ]
     },
     "execution_count": 26,
     "metadata": {},
     "output_type": "execute_result"
    }
   ],
   "source": [
    "# fir the modle with X_train and y_train\n",
    "classifier.fit(X_train, y_train)"
   ]
  },
  {
   "cell_type": "code",
   "execution_count": 27,
   "id": "efae65d7",
   "metadata": {},
   "outputs": [
    {
     "data": {
      "text/plain": [
       "array([1, 0, 0, 1, 0, 0, 1, 1, 0, 0, 1, 1, 0, 0, 0, 0, 1, 0, 0, 0, 1, 0,\n",
       "       0, 0, 0, 0, 0, 1, 0, 0, 1, 0, 0, 1, 0, 1, 0, 0, 0, 1, 0, 0, 0, 1,\n",
       "       1, 0, 0, 0, 0, 0, 1, 0, 1, 1, 0, 0, 0, 1, 0, 1, 1, 0, 0, 1, 1, 1,\n",
       "       1, 0, 0, 0, 0, 0, 0, 1, 1, 0, 0, 1, 0, 0, 0, 0, 0, 0, 0, 0, 0, 0,\n",
       "       1, 0, 0, 0, 0, 0, 1, 0, 0, 1, 1, 1, 0, 0, 0, 0, 1, 1, 0, 1, 0, 1,\n",
       "       0, 0, 1, 1, 1, 1, 0, 0, 0, 1, 0, 0, 0, 0, 0, 0, 0, 0, 0, 0, 0, 0,\n",
       "       0, 0, 0, 1, 0, 0, 0, 0, 0, 1, 0, 0, 1, 0, 0, 0, 0, 0, 0, 0, 0, 0],\n",
       "      dtype=int64)"
      ]
     },
     "execution_count": 27,
     "metadata": {},
     "output_type": "execute_result"
    }
   ],
   "source": [
    "# then predict the model with test data \n",
    "y_pred = classifier.predict(X_test)\n",
    "y_pred"
   ]
  },
  {
   "cell_type": "code",
   "execution_count": 28,
   "id": "c9c0ed09",
   "metadata": {},
   "outputs": [
    {
     "name": "stdout",
     "output_type": "stream",
     "text": [
      "[[94 13]\n",
      " [15 32]]\n",
      "0.6956521739130436\n"
     ]
    }
   ],
   "source": [
    "#  Now we eveluate the model with confustion matrix \n",
    "cm = confusion_matrix(y_test, y_pred)\n",
    "print(cm)\n",
    "\n",
    "# also we using the f1 score to check the accuracy\n",
    "print(f1_score(y_test,y_pred))"
   ]
  },
  {
   "cell_type": "code",
   "execution_count": 29,
   "id": "2797ccea",
   "metadata": {},
   "outputs": [],
   "source": [
    "# let eveluate withe words\n",
    "#           Pred\n",
    "#  actual   [94, 13]\n",
    "#           [15, 32]\n",
    "\n",
    "#  here the correctly predicted are 94 and 32\n",
    "#  the 94 people not diagnosed in the prediction and actual set also said the same - correctly predicted \n",
    "#  the 32 peole are diagnosed and the prediction also said it correcty \n",
    "\n",
    "#  the the 13 and 15 are other way arround \n",
    "#  13 prople not diagnosed but the prediction said 13 people ar ediagnosed \n",
    "#  15 prople are diagnosed but the prediction said they not diagnosed \n",
    "\n",
    "# f1_score says more than accuracy but mostl we use accuracy to show the buisness people\n",
    "# but the f1_score to data scientist \n"
   ]
  },
  {
   "cell_type": "code",
   "execution_count": 30,
   "id": "79eadfe5",
   "metadata": {},
   "outputs": [
    {
     "name": "stdout",
     "output_type": "stream",
     "text": [
      "0.8181818181818182\n"
     ]
    }
   ],
   "source": [
    "print(accuracy_score(y_test, y_pred))"
   ]
  },
  {
   "cell_type": "code",
   "execution_count": 31,
   "id": "8bab7702",
   "metadata": {},
   "outputs": [],
   "source": [
    "#  the model accuracy is 81%"
   ]
  }
 ],
 "metadata": {
  "kernelspec": {
   "display_name": "Python 3 (ipykernel)",
   "language": "python",
   "name": "python3"
  },
  "language_info": {
   "codemirror_mode": {
    "name": "ipython",
    "version": 3
   },
   "file_extension": ".py",
   "mimetype": "text/x-python",
   "name": "python",
   "nbconvert_exporter": "python",
   "pygments_lexer": "ipython3",
   "version": "3.8.11"
  }
 },
 "nbformat": 4,
 "nbformat_minor": 5
}
