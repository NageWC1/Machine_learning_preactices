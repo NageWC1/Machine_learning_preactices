{
 "cells": [
  {
   "cell_type": "code",
   "execution_count": 1,
   "id": "f7b5cd6d",
   "metadata": {},
   "outputs": [],
   "source": [
    "# import packages \n",
    "import numpy as np"
   ]
  },
  {
   "cell_type": "code",
   "execution_count": 2,
   "id": "c064234d",
   "metadata": {},
   "outputs": [],
   "source": [
    "# Define the states \n",
    "location_to_state = {\n",
    "    'L1' : 0,\n",
    "    'L2' : 1,\n",
    "    'L3' : 3,\n",
    "    'L4' : 4,\n",
    "    'L5' : 5,\n",
    "    'L6' : 6,\n",
    "    'L7' : 7,\n",
    "    'L8' : 8,\n",
    "}"
   ]
  },
  {
   "cell_type": "code",
   "execution_count": 3,
   "id": "c2005d9b",
   "metadata": {},
   "outputs": [],
   "source": [
    "# Define the actions \n",
    "actions = [0,1,2,3,4,5,6,7,8]"
   ]
  },
  {
   "cell_type": "code",
   "execution_count": 6,
   "id": "e48fa528",
   "metadata": {},
   "outputs": [],
   "source": [
    "# Define the rewards \n",
    "rewards = np.array([[0,1,0,0,0,0,0,0,0],\n",
    "                  [1,0,1,0,1,0,0,0,0],\n",
    "                  [0,1,0,0,0,1,0,0,0],\n",
    "                  [0,0,0,0,0,0,1,0,0],\n",
    "                  [0,1,0,0,0,0,0,1,0],\n",
    "                  [0,0,1,0,0,0,0,0,0],\n",
    "                  [0,0,0,1,0,0,0,1,0],\n",
    "                  [0,0,0,0,1,0,1,0,0],\n",
    "                  [0,0,0,0,0,0,0,1,0]])"
   ]
  },
  {
   "cell_type": "code",
   "execution_count": 8,
   "id": "609bf4cf",
   "metadata": {},
   "outputs": [],
   "source": [
    "state_to_location = dict((state, location) for location,state in location_to_state.items())\n",
    "\n",
    "#  Initialize the parameter \n",
    "gamma = 0.75 # Discount factor  \n",
    "alpha = 0.9 # Learning factor"
   ]
  },
  {
   "cell_type": "code",
   "execution_count": 22,
   "id": "fca9ec39",
   "metadata": {},
   "outputs": [],
   "source": [
    "#  Lets have our Agent \n",
    "class QAgent():\n",
    "    \n",
    "#   Initialize alpha, gamma, state, actions, rewards, and Q-Values \n",
    "    def __init__(self, alpha, gamma, location_to_state, actions, rewards, state_to_location):\n",
    "        self.gamma = gamma\n",
    "        self.alpha = alpha \n",
    "        self.location_to_state = location_to_state \n",
    "        self.actions = actions \n",
    "        self.rewards = rewards \n",
    "        self.state_to_location = state_to_location\n",
    "        \n",
    "        M = len(location_to_state)\n",
    "        self.Q = np.zeros((M,M), dtype = None, order   = 'C')\n",
    "        \n",
    "        \n",
    "#     Training the robot in the environment \n",
    "    def training(self, stat_location, end_location, iterations):\n",
    "        \n",
    "        rewards_new = np.copy(self.rewards)\n",
    "        \n",
    "        ending_state = self.location_to_state[end_location]\n",
    "        rewards_new[ending_state, ending_state] = 999\n",
    "        \n",
    "        # picking a random current state \n",
    "        for i in range(iterations):\n",
    "            current_state = np.random.randint(0,9)\n",
    "            playable_actions = []\n",
    "            \n",
    "            # iterate  through the rewards matrix to get the states \n",
    "            # direcctly reachable from the randomly chosen current state \n",
    "            # assign those state in alist named playable_actions.\n",
    "            for j in range(9):\n",
    "                if rewards_new[current_state, j] > 0:\n",
    "                    playable_actions.append(j)\n",
    "                    \n",
    "            # choosing a random next state\n",
    "            next_state = np.random.choice(playable_actions)\n",
    "            \n",
    "            #finding temporal differently \n",
    "            TD = rewards_new[current_state, next_state] + self.gamma * self.Q[next_state, np.argmax(self.Q[next_state,])] - self.Q[current_state, next_state]\n",
    "\n",
    "            self.Q[current_state, next_state] += self.alpha * TD\n",
    "            \n",
    "        route = [start_location]\n",
    "        next_location = start_location\n",
    "        \n",
    "#       Get the route\n",
    "        self.get_optimal_route(start_location, end_location, next_location, route, self.Q)\n",
    "    \n",
    "    # Get the optimal route\n",
    "    def get_optimal_route(self, start_location, end_location, next_location, route, Q):\n",
    "        \n",
    "        while(next_location != end_location):\n",
    "            starting_state = self.location_to_state[start_location]\n",
    "            next_state = np.argmax(Q[starting_state,])\n",
    "            next_location = slef.state_to_location[next_state]\n",
    "            route.append(next_location)\n",
    "            start_location = next_location\n",
    "            \n",
    "        print(route)"
   ]
  },
  {
   "cell_type": "code",
   "execution_count": 23,
   "id": "7cc55cb7",
   "metadata": {},
   "outputs": [
    {
     "ename": "IndexError",
     "evalue": "index 8 is out of bounds for axis 0 with size 8",
     "output_type": "error",
     "traceback": [
      "\u001b[1;31m---------------------------------------------------------------------------\u001b[0m",
      "\u001b[1;31mIndexError\u001b[0m                                Traceback (most recent call last)",
      "\u001b[1;32m~\\AppData\\Local\\Temp/ipykernel_11324/4169046394.py\u001b[0m in \u001b[0;36m<module>\u001b[1;34m\u001b[0m\n\u001b[0;32m      1\u001b[0m \u001b[0mqagent\u001b[0m \u001b[1;33m=\u001b[0m \u001b[0mQAgent\u001b[0m\u001b[1;33m(\u001b[0m\u001b[0malpha\u001b[0m\u001b[1;33m,\u001b[0m \u001b[0mgamma\u001b[0m\u001b[1;33m,\u001b[0m \u001b[0mlocation_to_state\u001b[0m\u001b[1;33m,\u001b[0m \u001b[0mactions\u001b[0m\u001b[1;33m,\u001b[0m \u001b[0mrewards\u001b[0m\u001b[1;33m,\u001b[0m \u001b[0mstate_to_location\u001b[0m\u001b[1;33m)\u001b[0m\u001b[1;33m\u001b[0m\u001b[1;33m\u001b[0m\u001b[0m\n\u001b[1;32m----> 2\u001b[1;33m \u001b[0mqagent\u001b[0m\u001b[1;33m.\u001b[0m\u001b[0mtraining\u001b[0m\u001b[1;33m(\u001b[0m\u001b[1;34m'L9'\u001b[0m\u001b[1;33m,\u001b[0m\u001b[1;34m'L1'\u001b[0m\u001b[1;33m,\u001b[0m \u001b[1;36m1000\u001b[0m\u001b[1;33m)\u001b[0m\u001b[1;33m\u001b[0m\u001b[1;33m\u001b[0m\u001b[0m\n\u001b[0m",
      "\u001b[1;32m~\\AppData\\Local\\Temp/ipykernel_11324/873162374.py\u001b[0m in \u001b[0;36mtraining\u001b[1;34m(self, stat_location, end_location, iterations)\u001b[0m\n\u001b[0;32m     39\u001b[0m \u001b[1;33m\u001b[0m\u001b[0m\n\u001b[0;32m     40\u001b[0m             \u001b[1;31m#finding temporal differently\u001b[0m\u001b[1;33m\u001b[0m\u001b[1;33m\u001b[0m\u001b[1;33m\u001b[0m\u001b[0m\n\u001b[1;32m---> 41\u001b[1;33m             \u001b[0mTD\u001b[0m \u001b[1;33m=\u001b[0m \u001b[0mrewards_new\u001b[0m\u001b[1;33m[\u001b[0m\u001b[0mcurrent_state\u001b[0m\u001b[1;33m,\u001b[0m \u001b[0mnext_state\u001b[0m\u001b[1;33m]\u001b[0m \u001b[1;33m+\u001b[0m \u001b[0mself\u001b[0m\u001b[1;33m.\u001b[0m\u001b[0mgamma\u001b[0m \u001b[1;33m*\u001b[0m \u001b[0mself\u001b[0m\u001b[1;33m.\u001b[0m\u001b[0mQ\u001b[0m\u001b[1;33m[\u001b[0m\u001b[0mnext_state\u001b[0m\u001b[1;33m,\u001b[0m \u001b[0mnp\u001b[0m\u001b[1;33m.\u001b[0m\u001b[0margmax\u001b[0m\u001b[1;33m(\u001b[0m\u001b[0mself\u001b[0m\u001b[1;33m.\u001b[0m\u001b[0mQ\u001b[0m\u001b[1;33m[\u001b[0m\u001b[0mnext_state\u001b[0m\u001b[1;33m,\u001b[0m\u001b[1;33m]\u001b[0m\u001b[1;33m)\u001b[0m\u001b[1;33m]\u001b[0m \u001b[1;33m-\u001b[0m \u001b[0mself\u001b[0m\u001b[1;33m.\u001b[0m\u001b[0mQ\u001b[0m\u001b[1;33m[\u001b[0m\u001b[0mcurrent_state\u001b[0m\u001b[1;33m,\u001b[0m \u001b[0mnext_state\u001b[0m\u001b[1;33m]\u001b[0m\u001b[1;33m\u001b[0m\u001b[1;33m\u001b[0m\u001b[0m\n\u001b[0m\u001b[0;32m     42\u001b[0m \u001b[1;33m\u001b[0m\u001b[0m\n\u001b[0;32m     43\u001b[0m             \u001b[0mself\u001b[0m\u001b[1;33m.\u001b[0m\u001b[0mQ\u001b[0m\u001b[1;33m[\u001b[0m\u001b[0mcurrent_state\u001b[0m\u001b[1;33m,\u001b[0m \u001b[0mnext_state\u001b[0m\u001b[1;33m]\u001b[0m \u001b[1;33m+=\u001b[0m \u001b[0mself\u001b[0m\u001b[1;33m.\u001b[0m\u001b[0malpha\u001b[0m \u001b[1;33m*\u001b[0m \u001b[0mTD\u001b[0m\u001b[1;33m\u001b[0m\u001b[1;33m\u001b[0m\u001b[0m\n",
      "\u001b[1;31mIndexError\u001b[0m: index 8 is out of bounds for axis 0 with size 8"
     ]
    }
   ],
   "source": [
    "qagent = QAgent(alpha, gamma, location_to_state, actions, rewards, state_to_location)\n",
    "qagent.training('L9','L1', 1000)"
   ]
  },
  {
   "cell_type": "code",
   "execution_count": null,
   "id": "76fe930a",
   "metadata": {},
   "outputs": [],
   "source": []
  },
  {
   "cell_type": "code",
   "execution_count": null,
   "id": "b7e86462",
   "metadata": {},
   "outputs": [],
   "source": []
  }
 ],
 "metadata": {
  "kernelspec": {
   "display_name": "Python 3 (ipykernel)",
   "language": "python",
   "name": "python3"
  },
  "language_info": {
   "codemirror_mode": {
    "name": "ipython",
    "version": 3
   },
   "file_extension": ".py",
   "mimetype": "text/x-python",
   "name": "python",
   "nbconvert_exporter": "python",
   "pygments_lexer": "ipython3",
   "version": "3.8.11"
  }
 },
 "nbformat": 4,
 "nbformat_minor": 5
}
